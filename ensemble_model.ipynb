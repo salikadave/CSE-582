{
 "cells": [
  {
   "attachments": {},
   "cell_type": "markdown",
   "metadata": {},
   "source": [
    "## Ensemble model"
   ]
  },
  {
   "attachments": {},
   "cell_type": "markdown",
   "metadata": {},
   "source": [
    "We follow the approach of training all the base models individually. We generate the output file for test data in the format requried for each model. After that, we combine the output of all the base models involved and come up with new predictions based on 'Hard' ensembling."
   ]
  },
  {
   "cell_type": "code",
   "execution_count": 5,
   "metadata": {},
   "outputs": [
    {
     "name": "stdout",
     "output_type": "stream",
     "text": [
      "The autoreload extension is already loaded. To reload it, use:\n",
      "  %reload_ext autoreload\n"
     ]
    }
   ],
   "source": [
    "import random, os\n",
    "import numpy as np\n",
    "\n",
    "# automatic module reloading\n",
    "%load_ext autoreload\n",
    "%autoreload 2\n",
    "\n",
    "# For reproducibility\n",
    "np.random.seed(3) \n",
    "random.seed(3)"
   ]
  },
  {
   "cell_type": "code",
   "execution_count": 13,
   "metadata": {},
   "outputs": [],
   "source": [
    "# add parent directory to path for imports to work\n",
    "import sys\n",
    "sys.path.append('..')\n",
    "\n",
    "# src imports\n",
    "from src.ensemble import HardEnsemble\n",
    "from src.utils import get_root_dir"
   ]
  },
  {
   "cell_type": "code",
   "execution_count": 14,
   "metadata": {},
   "outputs": [],
   "source": [
    "test_data_ouputs = [\n",
    "    os.path.join(get_root_dir(), 'HMM', 'output_corrected.txt'),\n",
    "    os.path.join(get_root_dir(), 'Labelled_outputs', 'logr_labelled.txt'),\n",
    "    os.path.join(get_root_dir(), 'MLP', 'MLP_labelled.txt'),\n",
    "]\n",
    "ensemble_file_name = os.path.join(get_root_dir(), 'Labelled_outputs', 'ensemble.txt')\n",
    "test_labelled = os.path.join(get_root_dir(), 'dataset', 'test_labelled.txt')"
   ]
  },
  {
   "cell_type": "code",
   "execution_count": 15,
   "metadata": {},
   "outputs": [
    {
     "name": "stdout",
     "output_type": "stream",
     "text": [
      "output_corrected Accuracy : 0.9180552915584278\n",
      "logr_labelled Accuracy : 0.9439179348629082\n",
      "MLP_labelled Accuracy : 0.9594106845093611\n",
      "Ensemble model's Accuracy : 0.957316944391645\n"
     ]
    }
   ],
   "source": [
    "# run a voting classifier on all the model outputs\n",
    "model = HardEnsemble(test_data_ouputs, ensemble_file_name, test_labelled)"
   ]
  },
  {
   "cell_type": "code",
   "execution_count": 16,
   "metadata": {},
   "outputs": [],
   "source": [
    "# store ensemble output \n",
    "model.generate_labelled_data()"
   ]
  }
 ],
 "metadata": {
  "kernelspec": {
   "display_name": "pos",
   "language": "python",
   "name": "python3"
  },
  "language_info": {
   "codemirror_mode": {
    "name": "ipython",
    "version": 3
   },
   "file_extension": ".py",
   "mimetype": "text/x-python",
   "name": "python",
   "nbconvert_exporter": "python",
   "pygments_lexer": "ipython3",
   "version": "3.9.16"
  },
  "orig_nbformat": 4,
  "vscode": {
   "interpreter": {
    "hash": "26b82d29683d0e2e5d2cbb75bad0064bccae605df6fb9f9bb51c3186d8a354e6"
   }
  }
 },
 "nbformat": 4,
 "nbformat_minor": 2
}
