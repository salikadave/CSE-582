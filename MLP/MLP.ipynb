{
 "cells": [
  {
   "cell_type": "code",
   "execution_count": 50,
   "id": "105b76e8",
   "metadata": {},
   "outputs": [],
   "source": [
    "import torch\n",
    "import pandas as pd\n",
    "import os"
   ]
  },
  {
   "cell_type": "code",
   "execution_count": 47,
   "id": "bd431ca7",
   "metadata": {},
   "outputs": [
    {
     "data": {
      "text/plain": [
       "0           B-NP\n",
       "1           B-PP\n",
       "2           B-NP\n",
       "3           I-NP\n",
       "4           B-VP\n",
       "           ...  \n",
       "211722      B-PP\n",
       "211723      B-NP\n",
       "211724      I-NP\n",
       "211725    B-ADVP\n",
       "211726         O\n",
       "Name: 2, Length: 211727, dtype: object"
      ]
     },
     "execution_count": 47,
     "metadata": {},
     "output_type": "execute_result"
    }
   ],
   "source": [
    "# Optional Pandas Dataframe\n",
    "df = pd.read_csv(\"/home/chitrang/Documents/CSE-582/dataset/train.txt\", sep=\" \", header=None)\n",
    "# drop the chunking column\n",
    "df.pop(df.columns[2])"
   ]
  },
  {
   "cell_type": "code",
   "execution_count": 17,
   "id": "f0ef4fa1",
   "metadata": {},
   "outputs": [],
   "source": [
    "# unique pos tags list [as number of classes for the MLP]\n",
    "POS_TAGS = df[1].unique()"
   ]
  },
  {
   "cell_type": "code",
   "execution_count": 18,
   "id": "c51ce27e",
   "metadata": {},
   "outputs": [
    {
     "data": {
      "text/plain": [
       "array(['NN', 'IN', 'DT', 'VBZ', 'RB', 'VBN', 'TO', 'VB', 'JJ', 'NNS',\n",
       "       'NNP', ',', 'CC', 'POS', '.', 'VBP', 'VBG', 'PRP$', 'CD', '``',\n",
       "       \"''\", 'VBD', 'EX', 'MD', '#', '(', '$', ')', 'NNPS', 'PRP', 'JJS',\n",
       "       'WP', 'RBR', 'JJR', 'WDT', 'WRB', 'RBS', 'PDT', 'RP', ':', 'FW',\n",
       "       'WP$', 'SYM', 'UH'], dtype=object)"
      ]
     },
     "execution_count": 18,
     "metadata": {},
     "output_type": "execute_result"
    }
   ],
   "source": [
    "POS_TAGS"
   ]
  },
  {
   "cell_type": "code",
   "execution_count": 51,
   "id": "96c1e74d",
   "metadata": {},
   "outputs": [],
   "source": [
    "# Setting directories\n",
    "ROOT_DIR = os.path.dirname(\"/home/chitrang/Documents/CSE-582/\") # setting the root dir\n",
    "POS_DIR = os.path.join(ROOT_DIR, 'dataset') # setting the pos dir\n",
    "WORDS_DIR = os.path.join(ROOT_DIR, 'words') # setting the words dir "
   ]
  },
  {
   "cell_type": "code",
   "execution_count": 52,
   "id": "0468ba27",
   "metadata": {},
   "outputs": [],
   "source": [
    "# training data file path\n",
    "pos_train = os.path.join(POS_DIR, \"train.txt\") "
   ]
  },
  {
   "cell_type": "code",
   "execution_count": 54,
   "id": "c4343deb",
   "metadata": {},
   "outputs": [],
   "source": [
    "def format_data(fname):\n",
    "    sentences = [] # master list\n",
    "    with open(fname) as f:\n",
    "        content = f.readlines()\n",
    "    \n",
    "    sentence = [] # local list\n",
    "    for line in content:\n",
    "        if line !='\\n':\n",
    "            line = line.strip() # remove leading/trailing spaces\n",
    "            word = line.split()[0].lower() # get the word\n",
    "            pos = \"\"\n",
    "            pos = line.split()[1] # get the pos tag\n",
    "            sentence.append((word, pos)) # create a pair and save to local list\n",
    "        else:\n",
    "            sentences.append(sentence) # once a \\n is detected, append the local sentence to master sentence\n",
    "            sentence = []\n",
    "    return sentences"
   ]
  },
  {
   "cell_type": "code",
   "execution_count": 55,
   "id": "4c32db12",
   "metadata": {},
   "outputs": [],
   "source": [
    "datalist = format_data(pos_train)"
   ]
  },
  {
   "cell_type": "code",
   "execution_count": 57,
   "id": "941075df",
   "metadata": {},
   "outputs": [
    {
     "data": {
      "text/plain": [
       "[('confidence', 'NN'),\n",
       " ('in', 'IN'),\n",
       " ('the', 'DT'),\n",
       " ('pound', 'NN'),\n",
       " ('is', 'VBZ'),\n",
       " ('widely', 'RB'),\n",
       " ('expected', 'VBN'),\n",
       " ('to', 'TO'),\n",
       " ('take', 'VB'),\n",
       " ('another', 'DT'),\n",
       " ('sharp', 'JJ'),\n",
       " ('dive', 'NN'),\n",
       " ('if', 'IN'),\n",
       " ('trade', 'NN'),\n",
       " ('figures', 'NNS'),\n",
       " ('for', 'IN'),\n",
       " ('september', 'NNP'),\n",
       " (',', ','),\n",
       " ('due', 'JJ'),\n",
       " ('for', 'IN'),\n",
       " ('release', 'NN'),\n",
       " ('tomorrow', 'NN'),\n",
       " (',', ','),\n",
       " ('fail', 'VB'),\n",
       " ('to', 'TO'),\n",
       " ('show', 'VB'),\n",
       " ('a', 'DT'),\n",
       " ('substantial', 'JJ'),\n",
       " ('improvement', 'NN'),\n",
       " ('from', 'IN'),\n",
       " ('july', 'NNP'),\n",
       " ('and', 'CC'),\n",
       " ('august', 'NNP'),\n",
       " (\"'s\", 'POS'),\n",
       " ('near-record', 'JJ'),\n",
       " ('deficits', 'NNS'),\n",
       " ('.', '.')]"
      ]
     },
     "execution_count": 57,
     "metadata": {},
     "output_type": "execute_result"
    }
   ],
   "source": [
    "datalist[0] # each index is a sentence with pairs (word, pos_tag)"
   ]
  },
  {
   "cell_type": "code",
   "execution_count": null,
   "id": "f15edaff",
   "metadata": {},
   "outputs": [],
   "source": []
  }
 ],
 "metadata": {
  "kernelspec": {
   "display_name": "Python 3 (ipykernel)",
   "language": "python",
   "name": "python3"
  },
  "language_info": {
   "codemirror_mode": {
    "name": "ipython",
    "version": 3
   },
   "file_extension": ".py",
   "mimetype": "text/x-python",
   "name": "python",
   "nbconvert_exporter": "python",
   "pygments_lexer": "ipython3",
   "version": "3.8.16"
  }
 },
 "nbformat": 4,
 "nbformat_minor": 5
}
