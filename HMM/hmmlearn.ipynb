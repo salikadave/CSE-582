{
 "cells": [
  {
   "cell_type": "code",
   "execution_count": null,
   "metadata": {},
   "outputs": [],
   "source": [
    "import numpy as np # linear algebra\n",
    "import pandas as pd # data processing, CSV file I/O (e.g. pd.read_csv)\n",
    "from tqdm import tqdm\n",
    "import os\n",
    "from hmmlearn import hmm\n",
    "from sklearn.metrics import accuracy_score\n",
    "\n",
    "ROOT_DIR = '../' if 'HMM' in os.getcwd() else os.getcwd() # setting the root dir\n",
    "POS_DIR = os.path.join(ROOT_DIR, 'dataset') # setting the pos dir\n",
    "\n",
    "pos_train = os.path.join(POS_DIR, \"train.txt\") \n",
    "pos_test = os.path.join(POS_DIR, \"test.txt\") "
   ]
  },
  {
   "cell_type": "code",
   "execution_count": null,
   "metadata": {},
   "outputs": [],
   "source": [
    "def format_data(fname):\n",
    "    sentences = [] # master list\n",
    "    with open(fname) as f:\n",
    "        content = f.readlines()\n",
    "    \n",
    "    sentence = [] # local list\n",
    "    for line in content:\n",
    "        if line !='\\n':\n",
    "            line = line.strip() # remove leading/trailing spaces\n",
    "            word = line.split()[0].lower() # get the word\n",
    "            pos = \"\"\n",
    "            pos = line.split()[1] # get the pos tag\n",
    "            sentence.append((word, pos)) # create a pair and save to local list\n",
    "        else:\n",
    "            sentences.append(sentence) # once a \\n is detected, append the local sentence to master sentence\n",
    "            sentence = []\n",
    "    return sentences\n",
    "\n",
    "train_set = format_data(pos_train)\n",
    "test_set = format_data(pos_test)\n",
    "print(len(train_set))\n",
    "print(len(test_set))"
   ]
  }
 ],
 "metadata": {
  "language_info": {
   "name": "python"
  },
  "orig_nbformat": 4
 },
 "nbformat": 4,
 "nbformat_minor": 2
}
