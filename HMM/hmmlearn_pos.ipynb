{
 "cells": [
  {
   "cell_type": "code",
   "execution_count": 2,
   "metadata": {},
   "outputs": [],
   "source": [
    "import numpy as np # linear algebra\n",
    "import pandas as pd # data processing, CSV file I/O (e.g. pd.read_csv)\n",
    "import os\n",
    "from hmmlearn import hmm\n",
    "from sklearn.metrics import accuracy_score\n",
    "from sklearn.model_selection import train_test_split\n",
    "ROOT_DIR = '../' if 'HMM' in os.getcwd() else os.getcwd() # setting the root dir\n",
    "POS_DIR = os.path.join(ROOT_DIR, 'dataset') # setting the pos dir\n",
    "\n",
    "pos_train = os.path.join(POS_DIR, \"train.txt\") \n",
    "pos_test = os.path.join(POS_DIR, \"test.txt\") "
   ]
  },
  {
   "cell_type": "code",
   "execution_count": 3,
   "metadata": {},
   "outputs": [
    {
     "name": "stdout",
     "output_type": "stream",
     "text": [
      "8936\n",
      "2012\n"
     ]
    }
   ],
   "source": [
    "def format_data(fname):\n",
    "    sentences = [] # master list\n",
    "    with open(fname) as f:\n",
    "        content = f.readlines()\n",
    "    \n",
    "    sentence = [] # local list\n",
    "    for line in content:\n",
    "        if line !='\\n':\n",
    "            line = line.strip() # remove leading/trailing spaces\n",
    "            word = line.split()[0].lower() # get the word\n",
    "            pos = \"\"\n",
    "            pos = line.split()[1] # get the pos tag\n",
    "            sentence.append((word, pos)) # create a pair and save to local list\n",
    "        else:\n",
    "            sentences.append(sentence) # once a \\n is detected, append the local sentence to master sentence\n",
    "            sentence = []\n",
    "    return sentences\n",
    "\n",
    "train_set = format_data(pos_train)\n",
    "test_set = format_data(pos_test)\n",
    "# train_set,test_set =train_test_split(datalist,train_size=0.80,test_size=0.20,random_state = 101)\n",
    "print(len(train_set))\n",
    "print(len(test_set))"
   ]
  },
  {
   "cell_type": "code",
   "execution_count": 4,
   "metadata": {},
   "outputs": [
    {
     "data": {
      "text/html": [
       "<div>\n",
       "<style scoped>\n",
       "    .dataframe tbody tr th:only-of-type {\n",
       "        vertical-align: middle;\n",
       "    }\n",
       "\n",
       "    .dataframe tbody tr th {\n",
       "        vertical-align: top;\n",
       "    }\n",
       "\n",
       "    .dataframe thead th {\n",
       "        text-align: right;\n",
       "    }\n",
       "</style>\n",
       "<table border=\"1\" class=\"dataframe\">\n",
       "  <thead>\n",
       "    <tr style=\"text-align: right;\">\n",
       "      <th></th>\n",
       "      <th>sentence</th>\n",
       "      <th>Word</th>\n",
       "      <th>POS</th>\n",
       "    </tr>\n",
       "  </thead>\n",
       "  <tbody>\n",
       "    <tr>\n",
       "      <th>0</th>\n",
       "      <td>Sentence: 1</td>\n",
       "      <td>confidence</td>\n",
       "      <td>NN</td>\n",
       "    </tr>\n",
       "    <tr>\n",
       "      <th>1</th>\n",
       "      <td>Sentence: 1</td>\n",
       "      <td>in</td>\n",
       "      <td>IN</td>\n",
       "    </tr>\n",
       "    <tr>\n",
       "      <th>2</th>\n",
       "      <td>Sentence: 1</td>\n",
       "      <td>the</td>\n",
       "      <td>DT</td>\n",
       "    </tr>\n",
       "    <tr>\n",
       "      <th>3</th>\n",
       "      <td>Sentence: 1</td>\n",
       "      <td>pound</td>\n",
       "      <td>NN</td>\n",
       "    </tr>\n",
       "    <tr>\n",
       "      <th>4</th>\n",
       "      <td>Sentence: 1</td>\n",
       "      <td>is</td>\n",
       "      <td>VBZ</td>\n",
       "    </tr>\n",
       "    <tr>\n",
       "      <th>...</th>\n",
       "      <td>...</td>\n",
       "      <td>...</td>\n",
       "      <td>...</td>\n",
       "    </tr>\n",
       "    <tr>\n",
       "      <th>211722</th>\n",
       "      <td>Sentence: 8936</td>\n",
       "      <td>to</td>\n",
       "      <td>TO</td>\n",
       "    </tr>\n",
       "    <tr>\n",
       "      <th>211723</th>\n",
       "      <td>Sentence: 8936</td>\n",
       "      <td>san</td>\n",
       "      <td>NNP</td>\n",
       "    </tr>\n",
       "    <tr>\n",
       "      <th>211724</th>\n",
       "      <td>Sentence: 8936</td>\n",
       "      <td>francisco</td>\n",
       "      <td>NNP</td>\n",
       "    </tr>\n",
       "    <tr>\n",
       "      <th>211725</th>\n",
       "      <td>Sentence: 8936</td>\n",
       "      <td>instead</td>\n",
       "      <td>RB</td>\n",
       "    </tr>\n",
       "    <tr>\n",
       "      <th>211726</th>\n",
       "      <td>Sentence: 8936</td>\n",
       "      <td>.</td>\n",
       "      <td>.</td>\n",
       "    </tr>\n",
       "  </tbody>\n",
       "</table>\n",
       "<p>211727 rows × 3 columns</p>\n",
       "</div>"
      ],
      "text/plain": [
       "              sentence        Word  POS\n",
       "0          Sentence: 1  confidence   NN\n",
       "1          Sentence: 1          in   IN\n",
       "2          Sentence: 1         the   DT\n",
       "3          Sentence: 1       pound   NN\n",
       "4          Sentence: 1          is  VBZ\n",
       "...                ...         ...  ...\n",
       "211722  Sentence: 8936          to   TO\n",
       "211723  Sentence: 8936         san  NNP\n",
       "211724  Sentence: 8936   francisco  NNP\n",
       "211725  Sentence: 8936     instead   RB\n",
       "211726  Sentence: 8936           .    .\n",
       "\n",
       "[211727 rows x 3 columns]"
      ]
     },
     "execution_count": 4,
     "metadata": {},
     "output_type": "execute_result"
    }
   ],
   "source": [
    "# convert to dataframe\n",
    "train_grouped = [ [\"Sentence: \" + str(sent_num+1), tup[0], tup[1]] for sent_num, sent in enumerate(train_set) for tup in sent ]\n",
    "train_grouped\n",
    "data_train = pd.DataFrame(train_grouped, columns=['sentence', 'Word', 'POS'])\n",
    "data_train"
   ]
  },
  {
   "cell_type": "code",
   "execution_count": 5,
   "metadata": {},
   "outputs": [
    {
     "data": {
      "text/html": [
       "<div>\n",
       "<style scoped>\n",
       "    .dataframe tbody tr th:only-of-type {\n",
       "        vertical-align: middle;\n",
       "    }\n",
       "\n",
       "    .dataframe tbody tr th {\n",
       "        vertical-align: top;\n",
       "    }\n",
       "\n",
       "    .dataframe thead th {\n",
       "        text-align: right;\n",
       "    }\n",
       "</style>\n",
       "<table border=\"1\" class=\"dataframe\">\n",
       "  <thead>\n",
       "    <tr style=\"text-align: right;\">\n",
       "      <th></th>\n",
       "      <th>sentence</th>\n",
       "      <th>Word</th>\n",
       "      <th>POS</th>\n",
       "    </tr>\n",
       "  </thead>\n",
       "  <tbody>\n",
       "    <tr>\n",
       "      <th>0</th>\n",
       "      <td>Sentence: 1</td>\n",
       "      <td>rockwell</td>\n",
       "      <td>NNP</td>\n",
       "    </tr>\n",
       "    <tr>\n",
       "      <th>1</th>\n",
       "      <td>Sentence: 1</td>\n",
       "      <td>international</td>\n",
       "      <td>NNP</td>\n",
       "    </tr>\n",
       "    <tr>\n",
       "      <th>2</th>\n",
       "      <td>Sentence: 1</td>\n",
       "      <td>corp.</td>\n",
       "      <td>NNP</td>\n",
       "    </tr>\n",
       "    <tr>\n",
       "      <th>3</th>\n",
       "      <td>Sentence: 1</td>\n",
       "      <td>'s</td>\n",
       "      <td>POS</td>\n",
       "    </tr>\n",
       "    <tr>\n",
       "      <th>4</th>\n",
       "      <td>Sentence: 1</td>\n",
       "      <td>tulsa</td>\n",
       "      <td>NNP</td>\n",
       "    </tr>\n",
       "    <tr>\n",
       "      <th>...</th>\n",
       "      <td>...</td>\n",
       "      <td>...</td>\n",
       "      <td>...</td>\n",
       "    </tr>\n",
       "    <tr>\n",
       "      <th>47372</th>\n",
       "      <td>Sentence: 2012</td>\n",
       "      <td>according</td>\n",
       "      <td>VBG</td>\n",
       "    </tr>\n",
       "    <tr>\n",
       "      <th>47373</th>\n",
       "      <td>Sentence: 2012</td>\n",
       "      <td>to</td>\n",
       "      <td>TO</td>\n",
       "    </tr>\n",
       "    <tr>\n",
       "      <th>47374</th>\n",
       "      <td>Sentence: 2012</td>\n",
       "      <td>mr.</td>\n",
       "      <td>NNP</td>\n",
       "    </tr>\n",
       "    <tr>\n",
       "      <th>47375</th>\n",
       "      <td>Sentence: 2012</td>\n",
       "      <td>harlow</td>\n",
       "      <td>NNP</td>\n",
       "    </tr>\n",
       "    <tr>\n",
       "      <th>47376</th>\n",
       "      <td>Sentence: 2012</td>\n",
       "      <td>.</td>\n",
       "      <td>.</td>\n",
       "    </tr>\n",
       "  </tbody>\n",
       "</table>\n",
       "<p>47377 rows × 3 columns</p>\n",
       "</div>"
      ],
      "text/plain": [
       "             sentence           Word  POS\n",
       "0         Sentence: 1       rockwell  NNP\n",
       "1         Sentence: 1  international  NNP\n",
       "2         Sentence: 1          corp.  NNP\n",
       "3         Sentence: 1             's  POS\n",
       "4         Sentence: 1          tulsa  NNP\n",
       "...               ...            ...  ...\n",
       "47372  Sentence: 2012      according  VBG\n",
       "47373  Sentence: 2012             to   TO\n",
       "47374  Sentence: 2012            mr.  NNP\n",
       "47375  Sentence: 2012         harlow  NNP\n",
       "47376  Sentence: 2012              .    .\n",
       "\n",
       "[47377 rows x 3 columns]"
      ]
     },
     "execution_count": 5,
     "metadata": {},
     "output_type": "execute_result"
    }
   ],
   "source": [
    "test_grouped = [ [\"Sentence: \" + str(sent_num+1), tup[0], tup[1]] for sent_num, sent in enumerate(test_set) for tup in sent ]\n",
    "data_test = pd.DataFrame(test_grouped, columns=['sentence', 'Word', 'POS'])\n",
    "data_test"
   ]
  },
  {
   "cell_type": "code",
   "execution_count": 6,
   "metadata": {},
   "outputs": [
    {
     "name": "stdout",
     "output_type": "stream",
     "text": [
      "17258 19460\n"
     ]
    }
   ],
   "source": [
    "tags = list(set(data_train.POS.values)) \n",
    "train_vocab = list(set(data_train.Word.values))\n",
    "data = pd.concat((data_test, data_train))\n",
    "vocab = list(set(data.Word.values))\n",
    "print(len(train_vocab), len(vocab))\n",
    "# Convert words and tags into numbers\n",
    "word2id = {w: i for i, w in enumerate(vocab)}\n",
    "tag2id = {t: i for i, t in enumerate(tags)}\n",
    "id2tag = {i: t for i, t in enumerate(tags)}"
   ]
  },
  {
   "cell_type": "code",
   "execution_count": 7,
   "metadata": {},
   "outputs": [
    {
     "data": {
      "text/plain": [
       "array([  6,   0, 629,   3,  47,   0,  73,  29,   3,  11,   1,   1,   5,\n",
       "       531,  51,   4,   0,   6, 212,  18, 128,   0,   0,   0,  20, 104,\n",
       "         9, 423,  91,  57,  19, 292,   6,   0,   3,   2,  19,   0, 126,\n",
       "        30, 293,   2,   8,  10])"
      ]
     },
     "execution_count": 7,
     "metadata": {},
     "output_type": "execute_result"
    }
   ],
   "source": [
    "count_tags = dict(data_train.POS.value_counts())  # gets value counts for POS of the whole dataset\n",
    "# gets a dictionary of the POS and all the value counts for each word for that POS\n",
    "count_tags_to_words = data_train.groupby(['POS']).apply(lambda grp: grp.groupby('Word')['POS'].count().to_dict()).to_dict() \n",
    "# gets the POS value counts for all of the first values in a sentence\n",
    "count_init_tags = dict(data_train.groupby('sentence').first().POS.value_counts())\n",
    "\n",
    "# get number of times a certain tag prevtag, is followed by nexttag \n",
    "# this is for transmission matrix\n",
    "count_tags_to_next_tags = np.zeros((len(tags), len(tags)), dtype=int)\n",
    "sentences = list(data_train.sentence) # these are just a list of the sentence column\n",
    "pos = list(data_train.POS) # these are just a list of the pos column\n",
    "for i in range(len(data_train)) : # iterate through all words\n",
    "    if (i > 0) and (sentences[i] == sentences[i - 1]): # if it is still the same sentence\n",
    "        prevtagid = tag2id[pos[i - 1]]\n",
    "        nexttagid = tag2id[pos[i]]\n",
    "        count_tags_to_next_tags[prevtagid][nexttagid] += 1 \n",
    "count_tags_to_next_tags[0]\n",
    "\n"
   ]
  },
  {
   "cell_type": "code",
   "execution_count": 8,
   "metadata": {},
   "outputs": [],
   "source": [
    "mystartprob = np.zeros((len(tags),)) # probability it is a certain tag\n",
    "mytransmat = np.zeros((len(tags), len(tags))) # transition matrix\n",
    "myemissionprob = np.zeros((len(tags), len(vocab)))\n",
    "num_sentences = sum(count_init_tags.values()) # used for probability of a certain tag\n",
    "sum_tags_to_next_tags = np.sum(count_tags_to_next_tags, axis=1)\n",
    "for tag, tagid in tag2id.items():\n",
    "    floatCountTag = float(count_tags.get(tag, 0)) # number of tags in dataset\n",
    "    mystartprob[tagid] = count_init_tags.get(tag, 0) / num_sentences\n",
    "    for word, wordid in word2id.items():\n",
    "        myemissionprob[tagid][wordid]= count_tags_to_words.get(tag, {}).get(word, 0) / floatCountTag\n",
    "    for tag2, tagid2 in tag2id.items():\n",
    "        mytransmat[tagid][tagid2]= count_tags_to_next_tags[tagid][tagid2] / sum_tags_to_next_tags[tagid]"
   ]
  },
  {
   "cell_type": "code",
   "execution_count": 9,
   "metadata": {},
   "outputs": [],
   "source": [
    "model = hmm.MultinomialHMM(n_components=len(tags), algorithm='viterbi', random_state=42)\n",
    "model.startprob_ = mystartprob\n",
    "model.transmat_ = mytransmat\n",
    "model.emissionprob_ = myemissionprob"
   ]
  },
  {
   "cell_type": "code",
   "execution_count": 13,
   "metadata": {},
   "outputs": [
    {
     "name": "stdout",
     "output_type": "stream",
     "text": [
      "47377\n",
      "47377\n",
      "True True\n"
     ]
    }
   ],
   "source": [
    "samples = []\n",
    "word_test = list(data_test.Word)\n",
    "for i, val in enumerate(word_test):\n",
    "    samples.append([word2id[val]])\n",
    "\n",
    "\n",
    "lengths = []\n",
    "count = 0\n",
    "sentences = list(data_test.sentence)\n",
    "for i in range(len(sentences)):\n",
    "    if (i > 0) and (sentences[i] == sentences[i - 1]):\n",
    "        count += 1\n",
    "    elif i > 0:\n",
    "        lengths.append(count)\n",
    "        count = 1\n",
    "    else:\n",
    "        count = 1\n",
    "\n",
    "lengths.append(count)\n",
    "\n",
    "print(len(samples))\n",
    "print(sum(lengths))\n",
    "print(sum(lengths)==len(samples), sum(lengths)==len(data_test))\n",
    "from sklearn.utils import check_array\n",
    "X = check_array(samples)\n",
    "from hmmlearn import _utils"
   ]
  },
  {
   "cell_type": "code",
   "execution_count": 11,
   "metadata": {},
   "outputs": [
    {
     "data": {
      "text/plain": [
       "array([0, 0, 0, ..., 0, 0, 0], dtype=int32)"
      ]
     },
     "execution_count": 11,
     "metadata": {},
     "output_type": "execute_result"
    }
   ],
   "source": [
    "pos_predict = model.predict(samples, lengths)\n",
    "pos_predict\n"
   ]
  },
  {
   "cell_type": "code",
   "execution_count": 19,
   "metadata": {},
   "outputs": [
    {
     "data": {
      "text/plain": [
       "(47377, 47377, 47377, 47377)"
      ]
     },
     "execution_count": 19,
     "metadata": {},
     "output_type": "execute_result"
    }
   ],
   "source": [
    "tags_test = list(data_test.POS)\n",
    "pos_test = np.zeros((len(tags_test), ), dtype=int)\n",
    "for i, val in enumerate(tags_test):\n",
    "    pos_test[i] = tag2id[val]\n",
    "len(pos_predict), len(pos_test), len(samples), len(word_test)"
   ]
  },
  {
   "cell_type": "code",
   "execution_count": 20,
   "metadata": {},
   "outputs": [
    {
     "name": "stdout",
     "output_type": "stream",
     "text": [
      "The accuracy is 0.4666821453447876\n"
     ]
    }
   ],
   "source": [
    "def reportTest(y_pred, y_test):\n",
    "    print(\"The accuracy is {}\".format(accuracy_score(y_test, y_pred))) \n",
    "reportTest(pos_predict, pos_test)"
   ]
  }
 ],
 "metadata": {
  "kernelspec": {
   "display_name": "nlp",
   "language": "python",
   "name": "python3"
  },
  "language_info": {
   "codemirror_mode": {
    "name": "ipython",
    "version": 3
   },
   "file_extension": ".py",
   "mimetype": "text/x-python",
   "name": "python",
   "nbconvert_exporter": "python",
   "pygments_lexer": "ipython3",
   "version": "3.7.12"
  },
  "orig_nbformat": 4
 },
 "nbformat": 4,
 "nbformat_minor": 2
}
